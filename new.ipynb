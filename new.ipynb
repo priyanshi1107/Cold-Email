{
 "cells": [
  {
   "cell_type": "code",
   "execution_count": 6,
   "id": "3b6aff21-dd76-4d4b-80db-d946d48e761a",
   "metadata": {},
   "outputs": [
    {
     "name": "stdout",
     "output_type": "stream",
     "text": [
      "Indore is a city in the Indian state of Madhya Pradesh, known for its rich history, cultural heritage, and modern amenities. Here are some famous things in Indore:\n",
      "\n",
      "1. **Rajwada Palace**: A historic palace that showcases the grandeur of the Holkar dynasty, which ruled Indore from the 18th to the 20th century.\n",
      "2. **Lalbagh Palace**: A beautiful palace built in the 19th century, known for its stunning architecture, beautiful gardens, and a collection of artifacts and artwork.\n",
      "3. **Indore Museum**: A museum that houses a collection of artifacts, sculptures, and artwork from the Holkar dynasty and other periods of Indian history.\n",
      "4. **Kanch Mandir**: A beautiful Jain temple made of glass and mirrors, known for its stunning architecture and intricate designs.\n",
      "5. **Annapurna Temple**: A famous Hindu temple dedicated to the goddess Annapurna, known for its beautiful architecture and delicious prasad (food offerings).\n",
      "6. **Sarafa Bazaar**: A bustling marketplace known for its gold and silver jewelry, as well as its street food and local handicrafts.\n",
      "7. **Chappan Dukan**: A popular street food market that offers a variety of local delicacies, including poha, jalebi, and chaat items.\n",
      "8. **Pipliyapala Regional Park**: A beautiful park that offers a peaceful escape from the city, with gardens, lakes, and walking trails.\n",
      "9. **Indore Zoo**: A popular zoo that is home to a variety of animals, including tigers, lions, and monkeys.\n",
      "10. **Khajrana Ganesh Temple**: A famous Hindu temple dedicated to Lord Ganesha, known for its beautiful architecture and peaceful atmosphere.\n",
      "\n",
      "Indore is also known for its:\n",
      "\n",
      "* **Food**: Indore is famous for its street food, including poha, jalebi, and chaat items.\n",
      "* **Textiles**: Indore is a major center for textile production, with a variety of fabrics and garments available.\n",
      "* **Education**: Indore is home to several prestigious educational institutions, including the Indian Institute of Technology (IIT) and the Indian Institute of Management (IIM).\n",
      "* **Cultural events**: Indore hosts several cultural events throughout the year, including the Indore Festival, the Malwa Utsav, and the Annapurna Festival.\n"
     ]
    }
   ],
   "source": [
    "from langchain_groq import ChatGroq\n",
    "\n",
    "llm = ChatGroq(\n",
    "    groq_api_key=\"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\",  \n",
    "    model_name=\"llama-3.1-70b-versatile\",\n",
    "    temperature=0,\n",
    ")\n",
    "\n",
    "response = llm.invoke(\"famous things in indore\")\n",
    "print(response.content)\n"
   ]
  },
  {
   "cell_type": "code",
   "execution_count": null,
   "id": "a1dcc450-28d6-4685-b106-575147122bee",
   "metadata": {},
   "outputs": [],
   "source": []
  }
 ],
 "metadata": {
  "kernelspec": {
   "display_name": "Python 3 (ipykernel)",
   "language": "python",
   "name": "python3"
  },
  "language_info": {
   "codemirror_mode": {
    "name": "ipython",
    "version": 3
   },
   "file_extension": ".py",
   "mimetype": "text/x-python",
   "name": "python",
   "nbconvert_exporter": "python",
   "pygments_lexer": "ipython3",
   "version": "3.13.0"
  }
 },
 "nbformat": 4,
 "nbformat_minor": 5
}
